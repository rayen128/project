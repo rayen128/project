{
 "cells": [
  {
   "cell_type": "markdown",
   "id": "18ed18e5",
   "metadata": {},
   "source": [
    "# Mushrooms\n",
    "\n",
    "For this exercise we're going to work with a dataset on mushrooms. More information on the dataset, take a look at [the webpage of the original study that is the source of this dataset](http://archive.ics.uci.edu/ml/datasets/Mushroom).\n",
    "\n",
    "The dataset contains an annotated collection of edible and poisonous mushrooms. The ediblity is related to many other properties, like the odor of the mushroom, the cap shape, the cap color, etc.\n",
    "\n",
    "### Acknowledgments\n",
    "\n",
    "This notebook is based on materials from the Minor AI program, specifically the Course Python for Data Processing. Special thanks to Wouter Vrielink & Tim Doolan for providing these materials."
   ]
  },
  {
   "cell_type": "markdown",
   "id": "deef7fb6-6582-42e4-9912-56d59f6da688",
   "metadata": {},
   "source": [
    "### Assignment\n",
    "TODO: dit stukje even bespreken\n",
    "\n",
    "1. **Download and Explore**  \n",
    "   Download the dataset and explore its contents. Use your skills from the [Kaggle Tutorials](https://www.kaggle.com/learn) to gain insights into the research question. This exercise is designed to help you practice data analysis skills and develop a feel for tackling a data science project.\n",
    "\n",
    "2. **Main Question**  \n",
    "   The central question for this assignment is:\n",
    "\n",
    "   *What insights can you gain about mushroom edibility or poison risk based on their characteristics?*\n",
    "\n",
    "    Keep in mind that for all data-science projects (so also your own project later-on) your main goal is to answer this question! All sub-questions are there for you to get this answer in the end.\n",
    "\n",
    "    --> dit moeten ze dus doen voordat ze onderstaande vragen beantwoorden? Vind dit stappenplan eigenlijk niet echt duidelijk.\n",
    "    \n",
    "    --> daarbij, als straks mensen een eigen project gaan maken wil je toch in principe dat ze gewoon een gerichte hoofdvraag hebben? niet dat we straks alleen maar projecten hebben met zo'n vage hoofdvraag\n",
    "\n",
    "3. **Teamwork and Sub-Questions**  \n",
    "   Work in teams to answer the following sub-questions, which will guide you in addressing the main question.\n",
    "\n",
    "   --> als we dit dus gaan doen, moet er meer informatie komen over hoe groot de groepjes etc\n",
    "\n",
    "To help you start, we've included some code to make the dataframe more readable."
   ]
  },
  {
   "cell_type": "code",
   "execution_count": 1,
   "id": "ae448d79",
   "metadata": {},
   "outputs": [],
   "source": [
    "import pandas as pd\n",
    "\n",
    "nested_value_dict = {'class': {'p': 'poisonous', 'e': 'edible'}\n",
    "     , 'cap-shape': {'b': 'bell', 'c': 'conical', 'x': 'convex', 'f': 'flat', 'k': 'knobbed', 's': 'sunken'}\n",
    "     , 'cap-surface': {'f': 'fibrous', 'g': 'grooves', 'y': 'scaly', 's': 'smooth'}\n",
    "     , 'cap-color': {'n': 'brown', 'b': 'buff', 'c': 'cinnamon', 'g': 'gray', 'r': 'green', 'p': 'pink', 'u': 'purple', 'e': 'red', 'w': 'white', 'y': 'yellow'}\n",
    "     , 'bruises': {'t': 'bruises', 'f': 'no'}\n",
    "     , 'odor': {'a': 'almond', 'l': 'anise', 'c': 'creosote', 'y': 'fishy', 'f': 'foul', 'm': 'musty', 'n': 'none', 'p': 'pungent', 's': 'spicy'}\n",
    "     , 'gill-attachment': {'a': 'attached', 'd': 'descending', 'f': 'free', 'n': 'notched'}\n",
    "     , 'gill-spacing': {'c': 'close', 'w': 'crowded', 'd': 'distant'}\n",
    "     , 'gill-size': {'b': 'broad', 'n': 'narrow'}\n",
    "     , 'gill-color': {'k': 'black', 'n': 'brown', 'b': 'buff', 'h': 'chocolate', 'g': 'gray', 'r': 'green', 'o': 'orange', 'p': 'pink', 'u': 'purple', 'e': 'red', 'w': 'white', 'y': 'yellow'}\n",
    "     , 'stalk-shape': {'e': 'enlarging', 't': 'tapering'}\n",
    "     , 'stalk-root': {'b': 'bulbous', 'c': 'club', 'u': 'cup', 'e': 'equal', 'z': 'rhizomorphs', 'r': 'rooted', '?': 'missing'}\n",
    "     , 'stalk-surface-above-ring': {'f': 'fibrous', 'y': 'scaly', 'k': 'silky', 's': 'smooth'}\n",
    "     , 'stalk-surface-below-ring': {'f': 'fibrous', 'y': 'scaly', 'k': 'silky', 's': 'smooth'}\n",
    "     , 'stalk-color-above-ring': {'n': 'brown', 'b': 'buff', 'c': 'cinnamon', 'g': 'gray', 'o': 'orange', 'p': 'pink', 'e': 'red', 'w': 'white', 'y': 'yellow'}\n",
    "     , 'stalk-color-below-ring': {'n': 'brown', 'b': 'buff', 'c': 'cinnamon', 'g': 'gray', 'o': 'orange', 'p': 'pink', 'e': 'red', 'w': 'white', 'y': 'yellow'}\n",
    "     , 'veil-type': {'p': 'partial', 'u': 'universal'}, 'veil-color': {'n': 'brown', 'o': 'orange', 'w': 'white', 'y': 'yellow'}\n",
    "     , 'ring-number': {'n': 'none', 'o': 'one', 't': 'two'}\n",
    "     , 'ring-type': {'c': 'cobwebby', 'e': 'evanescent', 'f': 'flaring', 'l': 'large', 'n': 'none', 'p': 'pendant', 's': 'sheathing', 'z': 'zone'}\n",
    "     , 'spore-print-color': {'k': 'black', 'n': 'brown', 'b': 'buff', 'h': 'chocolate', 'r': 'green', 'o': 'orange', 'u': 'purple', 'w': 'white', 'y': 'yellow'}\n",
    "     , 'population': {'a': 'abundant', 'c': 'clustered', 'n': 'numerous', 's': 'scattered', 'v': 'several', 'y': 'solitary'}\n",
    "     , 'habitat': {'g': 'grasses', 'l': 'leaves', 'm': 'meadows', 'p': 'paths', 'u': 'urban', 'w': 'waste', 'd': 'woods'}}\n",
    "\n",
    "df_mushroom = pd.read_csv('mushrooms.csv')\n",
    "df_mushroom = df_mushroom.replace(nested_value_dict)"
   ]
  },
  {
   "cell_type": "markdown",
   "id": "33f541e4-6a1e-4102-ac3c-23f8464d7b6c",
   "metadata": {},
   "source": [
    "TODO:Voeg vraag toe over mogelijk predictive model (welk model? Train/test set (zelf) maken? etc.)"
   ]
  },
  {
   "cell_type": "markdown",
   "id": "395e5f33-1c01-4f17-a9dc-bcedd164aa00",
   "metadata": {},
   "source": [
    "***Q1 Initial Exploration***\n",
    " \n",
    "Create a bar chart showing the number of edible and poisonous mushrooms for each cap shape. Make sure you understand the distribution of edibility across cap shapes."
   ]
  },
  {
   "cell_type": "code",
   "execution_count": null,
   "id": "c7859fd3-9761-47b4-be0b-34e661fed765",
   "metadata": {},
   "outputs": [],
   "source": [
    "## YOUR CODE GOES HERE ##"
   ]
  },
  {
   "cell_type": "markdown",
   "id": "3584b29c-3236-42f3-bacf-9e822764c59a",
   "metadata": {},
   "source": [
    "***Q2 Reflection on Findings***\n",
    "\n",
    "What patterns or differences do you observe in the bar chart? Are there any apparent relationships between cap shape and edibility? Think about limitations or potential biases in this visualization."
   ]
  },
  {
   "cell_type": "markdown",
   "id": "a18f5366",
   "metadata": {},
   "source": [
    "> *Your answer goes here*"
   ]
  },
  {
   "cell_type": "markdown",
   "id": "35058c28-e276-4c82-9525-b546601cc0ea",
   "metadata": {},
   "source": [
    "***Q3 Choosing Additional Variables***\n",
    "\n",
    "Explore other mushroom characteristics. Use the methods you've learned previously, or other techniques you're familiar with. Select variables that you believe could impact edibility. Explain why you chose these particular characteristics.\n",
    "\n"
   ]
  },
  {
   "cell_type": "code",
   "execution_count": null,
   "id": "8b8f9263-ac36-4055-bb40-76634580ffa4",
   "metadata": {},
   "outputs": [],
   "source": [
    "## YOUR CODE GOES HERE ##"
   ]
  },
  {
   "cell_type": "markdown",
   "id": "ef2adf0f",
   "metadata": {},
   "source": [
    "> *Your answer goes here*"
   ]
  },
  {
   "cell_type": "markdown",
   "id": "a2b46874-c9d9-4811-a69f-1eea37eb5bdf",
   "metadata": {},
   "source": [
    "***Q4 Heatmap Visualization***\n",
    "\n",
    "Pick two categorical variables (other than cap shape) to create a heatmap, showing counts of edible vs. poisonous mushrooms for these variables. Examine potential relationships between additional characteristics and edibility.\n",
    "\n",
    "--> wat bedoel je hier met additional?"
   ]
  },
  {
   "cell_type": "code",
   "execution_count": null,
   "id": "11931f18-da1a-47b4-a475-cf6ec3933b8e",
   "metadata": {},
   "outputs": [],
   "source": [
    "## YOUR CODE GOES HERE ##"
   ]
  },
  {
   "cell_type": "markdown",
   "id": "45a5673b-bc4d-4ea4-9c59-7ffb16e1a219",
   "metadata": {},
   "source": [
    "***Q5 Proportion-Based Analysis*** \n",
    "\n",
    "Modify the heatmap to display the proportion of edible mushrooms instead of counts.  \n",
    "\n",
    "--> wat is hier het doel van? en wat heeft het te maken met proportion-bases analysis?\n",
    "\n",
    "**Tip**: Label the axes and add a color scale for clarity.\n",
    "\n",
    "--> waarom deze tip niet hierboven?"
   ]
  },
  {
   "cell_type": "code",
   "execution_count": null,
   "id": "8b0307b5-2428-4fc1-9a85-28f0681163b4",
   "metadata": {},
   "outputs": [],
   "source": [
    "## YOUR CODE GOES HERE ##"
   ]
  },
  {
   "cell_type": "markdown",
   "id": "df7b3aff-c19c-454f-9539-45c6ea8c6fbe",
   "metadata": {},
   "source": [
    "***Q6 Comparison of Insights from Counts vs. Proportions***\n",
    "\n",
    "Compare the two heatmaps. What additional insights does the proportion-based view offer? How might this shift your interpretation?"
   ]
  },
  {
   "cell_type": "markdown",
   "id": "db88f7af",
   "metadata": {},
   "source": [
    "> *Your answer goes here*"
   ]
  },
  {
   "cell_type": "markdown",
   "id": "31b29c12-428e-41b6-adf3-68366ece732d",
   "metadata": {},
   "source": [
    "***Q7 Reflecting on Data Limitations*** \n",
    "\n",
    "If you could add more information, such as geographic location or climate, how might this improve your understanding of mushroom edibility?\n",
    "\n",
    "--> moet dit gewoon beredeneerd worden?? of moeten ze dit onderzoeken?"
   ]
  },
  {
   "cell_type": "code",
   "execution_count": null,
   "id": "636dd316-6db0-489d-9fac-d1287e34bbec",
   "metadata": {},
   "outputs": [],
   "source": [
    "## YOUR CODE GOES HERE ##"
   ]
  },
  {
   "cell_type": "markdown",
   "id": "1a975826-47ae-4a9d-bebb-671c7cb805bb",
   "metadata": {},
   "source": [
    "***Q8 End Question***\n",
    "\n",
    "Based on your visualizations and analyses, what can you conclude about the factors influencing mushroom edibility? If you were to continue this research, what new questions or methods would you explore?"
   ]
  },
  {
   "cell_type": "markdown",
   "id": "f926e5bf",
   "metadata": {},
   "source": [
    "> *Your answer goes here*"
   ]
  }
 ],
 "metadata": {
  "kernelspec": {
   "display_name": "Python 3 (ipykernel)",
   "language": "python",
   "name": "python3"
  },
  "language_info": {
   "codemirror_mode": {
    "name": "ipython",
    "version": 3
   },
   "file_extension": ".py",
   "mimetype": "text/x-python",
   "name": "python",
   "nbconvert_exporter": "python",
   "pygments_lexer": "ipython3",
   "version": "3.10.12"
  }
 },
 "nbformat": 4,
 "nbformat_minor": 5
}
