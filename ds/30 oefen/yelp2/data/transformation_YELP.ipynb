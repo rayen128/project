{
 "cells": [
  {
   "cell_type": "code",
   "execution_count": null,
   "metadata": {},
   "outputs": [],
   "source": [
    "# Loading csv\n",
    "health = pd.read_csv(data_path + 'Health_Code_Violations_Seattle.csv')\n",
    "display(health.head())"
   ]
  },
  {
   "cell_type": "code",
   "execution_count": null,
   "metadata": {},
   "outputs": [],
   "source": [
    "import pandas as pd\n",
    "import json\n",
    "\n",
    "def load_jsons(data_path, file):\n",
    "    \"\"\" helper function to load '.json' files (they're not proper jsons) \"\"\"\n",
    "    file_path = data_path + file\n",
    "    with open(file_path) as jsons:\n",
    "        lines = [json.loads(json_line) for json_line in jsons]\n",
    "    return lines"
   ]
  },
  {
   "cell_type": "code",
   "execution_count": null,
   "metadata": {},
   "outputs": [],
   "source": [
    "# Load data for town called Ambridge\n",
    "data_path = './Seattle_Health_Code/'\n",
    "review_file = 'review.json'\n",
    "business_file = 'business.json'\n",
    "\n",
    "reviews = load_jsons(data_path, review_file)\n",
    "businesses = load_jsons(data_path, business_file)"
   ]
  },
  {
   "cell_type": "code",
   "execution_count": null,
   "metadata": {},
   "outputs": [],
   "source": [
    "rvws = {}\n",
    "for review in reviews:\n",
    "    rid = review['business_id']\n",
    "    if rid in rvws:\n",
    "        rvws[rid].append(review)\n",
    "    else:\n",
    "        rvws[rid] = [review]"
   ]
  },
  {
   "cell_type": "code",
   "execution_count": null,
   "metadata": {},
   "outputs": [],
   "source": [
    "print(rvws['1jyenjdG7kw6i1NEDLr1ZA'])"
   ]
  },
  {
   "cell_type": "code",
   "execution_count": null,
   "metadata": {},
   "outputs": [],
   "source": [
    "# Merging the JSON reviews\n",
    "bsns = {business['business_id']: business for business in businesses}\n",
    "\n",
    "for key, rvs in rvws.items():\n",
    "    bsns[key]['reviews'] = rvs\n",
    "\n",
    "print(list(bsns.items())[:3])"
   ]
  },
  {
   "cell_type": "code",
   "execution_count": null,
   "metadata": {},
   "outputs": [],
   "source": [
    "#Matching the inspections with reviews\n",
    "#clean name function\n",
    "import re\n",
    "r2 = re.compile(r'[^a-zA-Z ]')\n",
    "\n",
    "def clean_name(name):\n",
    "    name1 = r2.sub('', name)\n",
    "    return name1.lower().strip()\n",
    "\n",
    "print(clean_name(\"A!@#112bc\"))\n",
    "print(clean_name(\"XYZ!*&12778 78#112bc\"))"
   ]
  },
  {
   "cell_type": "code",
   "execution_count": null,
   "metadata": {},
   "outputs": [],
   "source": [
    "# Restructure dictionary\n",
    "bsns_name = {clean_name(value['name']): value for key, value in bsns.items()}\n",
    "for key, value in bsns_name.items():\n",
    "    value['inspections'] = []"
   ]
  },
  {
   "cell_type": "code",
   "execution_count": null,
   "metadata": {},
   "outputs": [],
   "source": [
    "print(list(bsns_name.items())[:3])"
   ]
  },
  {
   "cell_type": "code",
   "execution_count": null,
   "metadata": {},
   "outputs": [],
   "source": [
    "# Merging in the inspections\n",
    "# apply clean_name to name column in health dataframe\n",
    "health['Name'] = health['Name'].map(clean_name)"
   ]
  },
  {
   "cell_type": "code",
   "execution_count": null,
   "metadata": {},
   "outputs": [],
   "source": [
    "# add inspections to restaurants\n",
    "for row in health.iterrows():\n",
    "    name = row[1]['Name']\n",
    "    business = bsns_name.get(name, None)\n",
    "    if business:\n",
    "        business['inspections'].append(row[1].to_dict())"
   ]
  },
  {
   "cell_type": "code",
   "execution_count": null,
   "metadata": {},
   "outputs": [],
   "source": [
    "print(list(bsns_name.items())[:3])"
   ]
  }
 ],
 "metadata": {
  "kernelspec": {
   "display_name": "Python 3 (ipykernel)",
   "language": "python",
   "name": "python3"
  },
  "language_info": {
   "codemirror_mode": {
    "name": "ipython",
    "version": 3
   },
   "file_extension": ".py",
   "mimetype": "text/x-python",
   "name": "python",
   "nbconvert_exporter": "python",
   "pygments_lexer": "ipython3",
   "version": "3.10.12"
  }
 },
 "nbformat": 4,
 "nbformat_minor": 4
}
